{
 "cells": [
  {
   "cell_type": "markdown",
   "metadata": {
    "slideshow": {
     "slide_type": "slide"
    }
   },
   "source": [
    "# What is Docker?\n"
   ]
  },
  {
   "cell_type": "markdown",
   "metadata": {
    "slideshow": {
     "slide_type": "fragment"
    }
   },
   "source": [
    "### Docker is a tool designed to make it easier to create, deploy, and run applications by using containers. Containers allow a developer to package up an application with all of the parts it needs, such as libraries and other dependencies, and ship it all out as one package."
   ]
  },
  {
   "cell_type": "markdown",
   "metadata": {
    "slideshow": {
     "slide_type": "slide"
    }
   },
   "source": [
    "# Why use Docker?\n"
   ]
  },
  {
   "cell_type": "markdown",
   "metadata": {
    "slideshow": {
     "slide_type": "fragment"
    }
   },
   "source": [
    "### Docker containers allow you to control all the facets of your operating system, with fewer resources being used than a traditional virtual machine. It fixes all the issues of dependencies, or lack of program access particular operating systems."
   ]
  },
  {
   "cell_type": "markdown",
   "metadata": {
    "slideshow": {
     "slide_type": "slide"
    }
   },
   "source": [
    "# Why is this useful in neuroscience?\n"
   ]
  },
  {
   "cell_type": "markdown",
   "metadata": {
    "slideshow": {
     "slide_type": "fragment"
    }
   },
   "source": [
    "### Reproducibility, version control, and data sharing."
   ]
  },
  {
   "cell_type": "markdown",
   "metadata": {
    "slideshow": {
     "slide_type": "slide"
    }
   },
   "source": [
    "# Now for an example of how to use Docker\n"
   ]
  },
  {
   "cell_type": "markdown",
   "metadata": {
    "slideshow": {
     "slide_type": "fragment"
    }
   },
   "source": [
    "### Installing bids-validator from Docker hub, running it on a dataset"
   ]
  },
  {
   "cell_type": "markdown",
   "metadata": {
    "slideshow": {
     "slide_type": "slide"
    }
   },
   "source": [
    "# What is Singularity?"
   ]
  },
  {
   "cell_type": "markdown",
   "metadata": {
    "slideshow": {
     "slide_type": "fragment"
    }
   },
   "source": [
    "### A container software similar to Docker, with good interoperability. "
   ]
  },
  {
   "cell_type": "markdown",
   "metadata": {
    "slideshow": {
     "slide_type": "slide"
    }
   },
   "source": [
    "# Why is Singularity preferred to Docker on the HPC?"
   ]
  },
  {
   "cell_type": "markdown",
   "metadata": {
    "slideshow": {
     "slide_type": "fragment"
    }
   },
   "source": [
    "### Security: Docker treats all users as a super-user, which creates security issues if people have access to the same container, and that container has access to those users data. "
   ]
  },
  {
   "cell_type": "markdown",
   "metadata": {
    "slideshow": {
     "slide_type": "fragment"
    }
   },
   "source": [
    "### Operability with Schedulers: The way Docker works prevent it from working with many schedulers like SLURM. Singularity doesn't have this issue due to the way it runs commands as subprocesses."
   ]
  },
  {
   "cell_type": "markdown",
   "metadata": {
    "slideshow": {
     "slide_type": "slide"
    }
   },
   "source": [
    "# Creating a Singularity image"
   ]
  },
  {
   "cell_type": "code",
   "execution_count": null,
   "metadata": {
    "slideshow": {
     "slide_type": "fragment"
    }
   },
   "outputs": [],
   "source": [
    "!singularity build \"/scratch/$(whoami)/bids-validator.sif\" docker://bids/validator"
   ]
  },
  {
   "cell_type": "code",
   "execution_count": 11,
   "metadata": {
    "slideshow": {
     "slide_type": "subslide"
    }
   },
   "outputs": [
    {
     "name": "stdout",
     "output_type": "stream",
     "text": [
      "\u001b[34mINFO:   \u001b[0m Starting build...\n",
      "Getting image source signatures\n",
      "Copying blob sha256:e7c96db7181be991f19a9fb6975cdbbd73c65f4a2681348e63a141a2192a5f10\n",
      " 2.63 MiB / 2.63 MiB [======================================================] 0s\n",
      "Copying blob sha256:50958466d97a8d1ceedc4e851de4fc43e3e3e0618e548597f63f0b546cb8797c\n",
      " 20.84 MiB / 20.84 MiB [====================================================] 0s\n",
      "Copying blob sha256:56174ae7ed1d5c96ca66882e205154d7067a1a8a325bd8fdec6d5f933f66e0a3\n",
      " 1.34 MiB / 1.34 MiB [======================================================] 0s\n",
      "Copying blob sha256:284842a36c0d8eea230cfd5e7a4a6b450fcd63d1c4737f236a91e1671455050a\n",
      " 283 B / 283 B [============================================================] 0s\n",
      "Copying blob sha256:76786c820a35d925d7809eca6fd7245ef7820d0e159ec2e2260e3eb1398b8dd1\n",
      " 2.44 MiB / 2.44 MiB [======================================================] 0s\n",
      "Copying blob sha256:d80564c7627d9b6352ef5ce7fa7384b8a7a9f6e91c5285e5ab215f885eab6bfa\n",
      " 17.20 MiB / 17.20 MiB [====================================================] 0s\n",
      "Copying config sha256:63081e2b92e09c865dd1a2e5ffeb37e8277574ca7aa94847b1e9bab70427b4a4\n",
      " 5.10 KiB / 5.10 KiB [======================================================] 0s\n",
      "Writing manifest to image destination\n",
      "Storing signatures\n",
      "\u001b[34mINFO:   \u001b[0m Creating SIF file...\n",
      "\u001b[34mINFO:   \u001b[0m Build complete: /scratch/akimb009/bids-validator.sif\n"
     ]
    }
   ],
   "source": [
    "!singularity build \"/scratch/$(whoami)/bids-validator.sif\" docker://bids/validator"
   ]
  },
  {
   "cell_type": "markdown",
   "metadata": {
    "slideshow": {
     "slide_type": "slide"
    }
   },
   "source": [
    "# Using a Singularity image"
   ]
  },
  {
   "cell_type": "code",
   "execution_count": null,
   "metadata": {
    "slideshow": {
     "slide_type": "fragment"
    }
   },
   "outputs": [],
   "source": [
    "!singularity run --cleanenv \"/scratch/$(whoami)/bids-validator.sif\" /scratch/madlab/condassoc_bids/"
   ]
  },
  {
   "cell_type": "code",
   "execution_count": 12,
   "metadata": {
    "slideshow": {
     "slide_type": "subslide"
    }
   },
   "outputs": [
    {
     "name": "stdout",
     "output_type": "stream",
     "text": [
      "bids-validator@1.3.3\n",
      "\n",
      "(node:9288) ExperimentalWarning: The fs.promises API is experimental\n",
      "\u001b[32mThis dataset appears to be BIDS compatible.\u001b[39m\n",
      "\n",
      "        \u001b[34m\u001b[4mSummary:\u001b[24m\u001b[39m                 \u001b[34m\u001b[4mAvailable Tasks:\u001b[24m\u001b[39m                                    \u001b[34m\u001b[4mAvailable Modalities:\u001b[24m\u001b[39m \n",
      "        544 Files, 9.58GB        conditional visual associative learning task        T1w                   \n",
      "        20 - Subjects            condition visual associative learning task          bold                  \n",
      "        1 - Session                                                                  events                \n",
      "\n",
      "\n",
      "\u001b[36m\tIf you have any questions, please post on https://neurostars.org/tags/bids.\u001b[39m\n",
      "\n"
     ]
    }
   ],
   "source": [
    "!singularity run --cleanenv \"/scratch/$(whoami)/bids-validator.sif\" /scratch/madlab/condassoc_bids/"
   ]
  },
  {
   "cell_type": "markdown",
   "metadata": {
    "slideshow": {
     "slide_type": "slide"
    }
   },
   "source": [
    "# Now you try!"
   ]
  },
  {
   "cell_type": "code",
   "execution_count": null,
   "metadata": {
    "slideshow": {
     "slide_type": "fragment"
    }
   },
   "outputs": [],
   "source": [
    "!singularity run --cleanenv \"/scratch/$(whoami)/bids-validator.sif\" /scratch/cis-training/ds000001/"
   ]
  },
  {
   "cell_type": "code",
   "execution_count": 6,
   "metadata": {
    "slideshow": {
     "slide_type": "subslide"
    }
   },
   "outputs": [
    {
     "name": "stdout",
     "output_type": "stream",
     "text": [
      "bids-validator@1.3.3\n",
      "\n",
      "(node:8150) ExperimentalWarning: The fs.promises API is experimental\n",
      "\t\u001b[33m1: [WARN] You should define 'SliceTiming' for this file. If you don't provide this information slice time correction will not be possible. (code: 13 - SLICE_TIMING_NOT_DEFINED)\u001b[39m\n",
      "\t\t./sub-01/func/sub-01_task-balloonanalogrisktask_run-01_bold.nii.gz\n",
      "\t\t./sub-01/func/sub-01_task-balloonanalogrisktask_run-02_bold.nii.gz\n",
      "\t\t./sub-01/func/sub-01_task-balloonanalogrisktask_run-03_bold.nii.gz\n",
      "\t\t./sub-02/func/sub-02_task-balloonanalogrisktask_run-01_bold.nii.gz\n",
      "\t\t./sub-02/func/sub-02_task-balloonanalogrisktask_run-02_bold.nii.gz\n",
      "\t\t./sub-02/func/sub-02_task-balloonanalogrisktask_run-03_bold.nii.gz\n",
      "\t\t./sub-03/func/sub-03_task-balloonanalogrisktask_run-01_bold.nii.gz\n",
      "\t\t./sub-03/func/sub-03_task-balloonanalogrisktask_run-02_bold.nii.gz\n",
      "\t\t./sub-03/func/sub-03_task-balloonanalogrisktask_run-03_bold.nii.gz\n",
      "\t\t./sub-04/func/sub-04_task-balloonanalogrisktask_run-01_bold.nii.gz\n",
      "\t\t\u001b[33m... and 38 more files having this issue (Use --verbose to see them all).\u001b[39m\n",
      "\n",
      "\u001b[36m\tPlease visit https://neurostars.org/search?q=SLICE_TIMING_NOT_DEFINED for existing conversations about this issue.\u001b[39m\n",
      "\n",
      "\t\u001b[33m2: [WARN] Not all subjects/sessions/runs have the same scanning parameters. (code: 39 - INCONSISTENT_PARAMETERS)\u001b[39m\n",
      "\t\t./sub-01/anat/sub-01_inplaneT2.nii.gz\n",
      "\t\t./sub-01/func/sub-01_task-balloonanalogrisktask_run-01_bold.nii.gz\n",
      "\t\t./sub-01/func/sub-01_task-balloonanalogrisktask_run-02_bold.nii.gz\n",
      "\t\t./sub-01/func/sub-01_task-balloonanalogrisktask_run-03_bold.nii.gz\n",
      "\n",
      "\u001b[36m\tPlease visit https://neurostars.org/search?q=INCONSISTENT_PARAMETERS for existing conversations about this issue.\u001b[39m\n",
      "\n",
      "\t\u001b[33m3: [WARN] Tabular file contains custom columns not described in a data dictionary (code: 82 - CUSTOM_COLUMN_WITHOUT_DESCRIPTION)\u001b[39m\n",
      "\t\t./participants.tsv\n",
      "\t\t\tEvidence: Columns: sex, age not defined, please define in: /participants.json\n",
      "\t\t./sub-01/func/sub-01_task-balloonanalogrisktask_run-01_events.tsv\n",
      "\t\t\tEvidence: Columns: cash_demean, control_pumps_demean, explode_demean, pumps_demean not defined, please define in: /sub-01/func/sub-01_events.json, /sub-01/func/sub-01_task-balloonanalogrisktask_events.json,/sub-01/sub-01_events.json,/sub-01/sub-01_task-balloonanalogrisktask_events.json,/events.json,/task-balloonanalogrisktask_events.json,/sub-01/func/sub-01_task-balloonanalogrisktask_run-01_events.json\n",
      "\t\t./sub-01/func/sub-01_task-balloonanalogrisktask_run-02_events.tsv\n",
      "\t\t\tEvidence: Columns: cash_demean, control_pumps_demean, explode_demean, pumps_demean not defined, please define in: /sub-01/func/sub-01_events.json, /sub-01/func/sub-01_task-balloonanalogrisktask_events.json,/sub-01/sub-01_events.json,/sub-01/sub-01_task-balloonanalogrisktask_events.json,/events.json,/task-balloonanalogrisktask_events.json,/sub-01/func/sub-01_task-balloonanalogrisktask_run-02_events.json\n",
      "\t\t./sub-01/func/sub-01_task-balloonanalogrisktask_run-03_events.tsv\n",
      "\t\t\tEvidence: Columns: cash_demean, control_pumps_demean, explode_demean, pumps_demean not defined, please define in: /sub-01/func/sub-01_events.json, /sub-01/func/sub-01_task-balloonanalogrisktask_events.json,/sub-01/sub-01_events.json,/sub-01/sub-01_task-balloonanalogrisktask_events.json,/events.json,/task-balloonanalogrisktask_events.json,/sub-01/func/sub-01_task-balloonanalogrisktask_run-03_events.json\n",
      "\t\t./sub-02/func/sub-02_task-balloonanalogrisktask_run-01_events.tsv\n",
      "\t\t\tEvidence: Columns: cash_demean, control_pumps_demean, explode_demean, pumps_demean not defined, please define in: /sub-02/func/sub-02_events.json, /sub-02/func/sub-02_task-balloonanalogrisktask_events.json,/sub-02/sub-02_events.json,/sub-02/sub-02_task-balloonanalogrisktask_events.json,/events.json,/task-balloonanalogrisktask_events.json,/sub-02/func/sub-02_task-balloonanalogrisktask_run-01_events.json\n",
      "\t\t./sub-02/func/sub-02_task-balloonanalogrisktask_run-02_events.tsv\n",
      "\t\t\tEvidence: Columns: cash_demean, control_pumps_demean, explode_demean, pumps_demean not defined, please define in: /sub-02/func/sub-02_events.json, /sub-02/func/sub-02_task-balloonanalogrisktask_events.json,/sub-02/sub-02_events.json,/sub-02/sub-02_task-balloonanalogrisktask_events.json,/events.json,/task-balloonanalogrisktask_events.json,/sub-02/func/sub-02_task-balloonanalogrisktask_run-02_events.json\n",
      "\t\t./sub-02/func/sub-02_task-balloonanalogrisktask_run-03_events.tsv\n",
      "\t\t\tEvidence: Columns: cash_demean, control_pumps_demean, explode_demean, pumps_demean not defined, please define in: /sub-02/func/sub-02_events.json, /sub-02/func/sub-02_task-balloonanalogrisktask_events.json,/sub-02/sub-02_events.json,/sub-02/sub-02_task-balloonanalogrisktask_events.json,/events.json,/task-balloonanalogrisktask_events.json,/sub-02/func/sub-02_task-balloonanalogrisktask_run-03_events.json\n",
      "\t\t./sub-03/func/sub-03_task-balloonanalogrisktask_run-01_events.tsv\n",
      "\t\t\tEvidence: Columns: cash_demean, control_pumps_demean, explode_demean, pumps_demean not defined, please define in: /sub-03/func/sub-03_events.json, /sub-03/func/sub-03_task-balloonanalogrisktask_events.json,/sub-03/sub-03_events.json,/sub-03/sub-03_task-balloonanalogrisktask_events.json,/events.json,/task-balloonanalogrisktask_events.json,/sub-03/func/sub-03_task-balloonanalogrisktask_run-01_events.json\n",
      "\t\t./sub-03/func/sub-03_task-balloonanalogrisktask_run-02_events.tsv\n",
      "\t\t\tEvidence: Columns: cash_demean, control_pumps_demean, explode_demean, pumps_demean not defined, please define in: /sub-03/func/sub-03_events.json, /sub-03/func/sub-03_task-balloonanalogrisktask_events.json,/sub-03/sub-03_events.json,/sub-03/sub-03_task-balloonanalogrisktask_events.json,/events.json,/task-balloonanalogrisktask_events.json,/sub-03/func/sub-03_task-balloonanalogrisktask_run-02_events.json\n",
      "\t\t./sub-03/func/sub-03_task-balloonanalogrisktask_run-03_events.tsv\n",
      "\t\t\tEvidence: Columns: cash_demean, control_pumps_demean, explode_demean, pumps_demean not defined, please define in: /sub-03/func/sub-03_events.json, /sub-03/func/sub-03_task-balloonanalogrisktask_events.json,/sub-03/sub-03_events.json,/sub-03/sub-03_task-balloonanalogrisktask_events.json,/events.json,/task-balloonanalogrisktask_events.json,/sub-03/func/sub-03_task-balloonanalogrisktask_run-03_events.json\n",
      "\t\t\u001b[33m... and 39 more files having this issue (Use --verbose to see them all).\u001b[39m\n",
      "\n",
      "\u001b[36m\tPlease visit https://neurostars.org/search?q=CUSTOM_COLUMN_WITHOUT_DESCRIPTION for existing conversations about this issue.\u001b[39m\n",
      "\n",
      "\t\u001b[33m4: [WARN] The onset of the last event is after the total duration of the corresponding scan. This design is suspiciously long.  (code: 85 - SUSPICIOUSLY_LONG_EVENT_DESIGN)\u001b[39m\n",
      "\t\t./sub-01/func/sub-01_task-balloonanalogrisktask_run-01_events.tsv\n",
      "\t\t./sub-01/func/sub-01_task-balloonanalogrisktask_run-02_events.tsv\n",
      "\t\t./sub-01/func/sub-01_task-balloonanalogrisktask_run-03_events.tsv\n",
      "\t\t./sub-02/func/sub-02_task-balloonanalogrisktask_run-03_events.tsv\n",
      "\t\t./sub-03/func/sub-03_task-balloonanalogrisktask_run-02_events.tsv\n",
      "\t\t./sub-03/func/sub-03_task-balloonanalogrisktask_run-03_events.tsv\n",
      "\t\t./sub-04/func/sub-04_task-balloonanalogrisktask_run-01_events.tsv\n",
      "\t\t./sub-04/func/sub-04_task-balloonanalogrisktask_run-02_events.tsv\n",
      "\t\t./sub-04/func/sub-04_task-balloonanalogrisktask_run-03_events.tsv\n",
      "\t\t./sub-05/func/sub-05_task-balloonanalogrisktask_run-01_events.tsv\n",
      "\t\t\u001b[33m... and 16 more files having this issue (Use --verbose to see them all).\u001b[39m\n",
      "\n",
      "\u001b[36m\tPlease visit https://neurostars.org/search?q=SUSPICIOUSLY_LONG_EVENT_DESIGN for existing conversations about this issue.\u001b[39m\n",
      "\n",
      "\n",
      "        \u001b[34m\u001b[4mSummary:\u001b[24m\u001b[39m                 \u001b[34m\u001b[4mAvailable Tasks:\u001b[24m\u001b[39m                \u001b[34m\u001b[4mAvailable Modalities:\u001b[24m\u001b[39m \n",
      "        133 Files, 2.25GB        balloon analog risk task        T1w                   \n",
      "        16 - Subjects                                            inplaneT2             \n",
      "        1 - Session                                              bold                  \n",
      "                                                                 events                \n",
      "\n",
      "\n",
      "\u001b[36m\tIf you have any questions, please post on https://neurostars.org/tags/bids.\u001b[39m\n",
      "\n"
     ]
    }
   ],
   "source": [
    "!singularity run --cleanenv \"/scratch/$(whoami)/bids-validator.sif\" /scratch/cis-training/ds000001/"
   ]
  }
 ],
 "metadata": {
  "celltoolbar": "Slideshow",
  "kernelspec": {
   "display_name": "Python 3",
   "language": "python",
   "name": "python3"
  },
  "language_info": {
   "codemirror_mode": {
    "name": "ipython",
    "version": 3
   },
   "file_extension": ".py",
   "mimetype": "text/x-python",
   "name": "python",
   "nbconvert_exporter": "python",
   "pygments_lexer": "ipython3",
   "version": "3.6.5"
  }
 },
 "nbformat": 4,
 "nbformat_minor": 2
}
